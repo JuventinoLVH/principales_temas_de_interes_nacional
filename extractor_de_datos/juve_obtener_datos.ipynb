{
 "cells": [
  {
   "attachments": {},
   "cell_type": "markdown",
   "metadata": {},
   "source": [
    "### Obtencion de datos \n",
    "--- \n",
    "Se obtendran  los datos de la pagina del presidente (https://presidente.gob.mx/sala-de-prensa/boletines/) usando selenium"
   ]
  },
  {
   "cell_type": "code",
   "execution_count": 6,
   "metadata": {},
   "outputs": [],
   "source": [
    "#se importan las librerias necesarias para el funcionamiento del programa\n",
    "from selenium import webdriver\n",
    "from bs4 import BeautifulSoup\n",
    "import re\n",
    "import time\n",
    "import html2text\n"
   ]
  },
  {
   "attachments": {},
   "cell_type": "markdown",
   "metadata": {},
   "source": [
    "#### Se inicia el navegador\n",
    "--- "
   ]
  },
  {
   "cell_type": "code",
   "execution_count": 4,
   "metadata": {},
   "outputs": [
    {
     "name": "stderr",
     "output_type": "stream",
     "text": [
      "c:\\Users\\te524132\\AppData\\Local\\miniconda3\\envs\\topic_modeling\\lib\\site-packages\\ipykernel_launcher.py:8: DeprecationWarning: executable_path has been deprecated, please pass in a Service object\n",
      "  \n"
     ]
    }
   ],
   "source": [
    "# Configuración del driver de Selenium para abrir el navegador\n",
    "\n",
    "#se pede usar en diferentes navegadores\n",
    "'''\n",
    "driver= webdriver.ChromiumEdge(executable_path='msedgedriver.exe')\n",
    "driver = webdriver.Firefox(executable_path='/path/to/geckodriver')\n",
    "'''\n",
    "driver= webdriver.Chrome(executable_path='chromedriver.exe')\n",
    "driver.get('https://presidente.gob.mx/sala-de-prensa/boletines/')\n",
    "\n",
    "# Función para obtener los links de los boletines de prensa dependiendo de la página en la que se encuentre\n",
    "def navegacion(num):\n",
    "    if( num >= 2):\n",
    "        driver.get('https://presidente.gob.mx/sala-de-prensa/boletines/page/'+ str(num) +'/')\n",
    "    if (num == 1):\n",
    "        driver.get('https://presidente.gob.mx/sala-de-prensa/boletines/')\n",
    "\n",
    "    return driver"
   ]
  },
  {
   "attachments": {},
   "cell_type": "markdown",
   "metadata": {},
   "source": [
    "#### Se itera en los articulos de cada pagina y se guarda en un archivo_con_articulos de texto\n",
    "--- "
   ]
  },
  {
   "cell_type": "code",
   "execution_count": 7,
   "metadata": {},
   "outputs": [
    {
     "name": "stdout",
     "output_type": "stream",
     "text": [
      "pagina: https://presidente.gob.mx/sala-de-prensa/boletines/\n",
      "ciclo de boletines: 1\n",
      "pagina: https://presidente.gob.mx/sala-de-prensa/boletines/page/2/\n",
      "ciclo de boletines: 2\n"
     ]
    }
   ],
   "source": [
    "def escribir_articulos(archivo,titulo,fecha,articulo=None):\n",
    "    # Escribir el título y contenido del artículo en el archivo_con_articulos de texto\n",
    "    archivo.write(\"\\n{\\n\")\n",
    "    archivo.write(f\"\\\"Título\\\": \\\"{titulo}\\\",\\n\")\n",
    "    if articulo is not None:\n",
    "        archivo.write(f\"\\\"Fecha\\\": \\\"{fecha}\\\",\\n\")\n",
    "        archivo.write(f\"\\\"Contenido\\\": \\\"{articulo}\\\"\")\n",
    "    else:\n",
    "        archivo.write(f\"\\\"Fecha\\\": \\\"{fecha}\\\"\")\n",
    "    archivo.write(\"\\n},\")\n",
    "\n",
    "\n",
    "# Abrir un archivo_con_articulos de texto para escribir los datos recolectados en cada una de las paginas de los articulos\n",
    "rango = 3\n",
    "with open('juve_datos_articulos_sin_html.txt', 'w', encoding='utf-8') as archivo_con_articulos:\n",
    "    with open('juve_datos.txt', 'w', encoding='utf-8') as archivo_sin_articulos:\n",
    "        archivo_con_articulos.write(\"[\")\n",
    "        archivo_sin_articulos.write(\"[\")\n",
    "        h = html2text.HTML2Text()\n",
    "        h.ignore_links = True\n",
    "        h.ignore_images\t= True\n",
    "            #este ciclo se encarga de recorrer las paginas de los articulos de los boletines de prensa\n",
    "            #solo se tiene que modificar el rango pra tomar mas paginas\n",
    "        for num in range(1,rango):\n",
    "            try:\n",
    "\n",
    "                navegacion(num)\n",
    "                print(\"pagina: \" + driver.current_url)\n",
    "                \n",
    "                # Obtener el HTML de la página con BeautifulSoup\n",
    "                soup = BeautifulSoup(driver.page_source, 'html.parser')\n",
    "                \n",
    "                # Obtener todos los artículos de la página en la que se encuentra y su fecha\n",
    "                articulos = soup.find_all('h3', {'class': 'entry-title'})\n",
    "                fecha_articulo = soup.find('span', {'class': 'posted-on'}).text.strip()\n",
    "                \n",
    "                # Recorrer cada artículo y obtener su contenido de cada una de los articulos de los boletines de prensa\n",
    "                for articulo in articulos:\n",
    "                    enlace = articulo.find('a')['href']\n",
    "                    driver.get(enlace)\n",
    "                    soup_articulo = BeautifulSoup(driver.page_source, 'html.parser')\n",
    "                    titulo_articulo = soup_articulo.find('h2', {'class': 'entry-title'}).text.strip()\n",
    "                    contenido_articulo = soup_articulo.find('div', {'class': 'entry-content'}).text.strip()\n",
    "                    \n",
    "                    # Escribir el título y contenido del artículo en el archivo_con_articulos de texto\n",
    "                    escribir_articulos(archivo_con_articulos,titulo_articulo,fecha_articulo,h.handle(contenido_articulo))\n",
    "                    escribir_articulos(archivo_sin_articulos,titulo_articulo,fecha_articulo)\n",
    "\n",
    "                print(\"ciclo de boletines: \" + str(num))\n",
    "\n",
    "            except Exception as e: \n",
    "                print(e)\n",
    "                continue\n",
    "            \n",
    "        archivo_con_articulos.write(\"\\n]\")        \n",
    "        archivo_sin_articulos.write(\"\\n]\")        \n",
    "\n",
    "# Cerrar el driver al finalizar y cerrar el archivo_con_articulos de \n",
    "# Mientras se esten haciendo pruebas, recomiendo comentar estas dos lineas\n",
    "if (rango >= 30):\n",
    "    driver.quit()\n",
    "    archivo_con_articulos.close()\n",
    "    archivo_sin_articulos.close()"
   ]
  },
  {
   "cell_type": "code",
   "execution_count": null,
   "metadata": {},
   "outputs": [],
   "source": []
  }
 ],
 "metadata": {
  "kernelspec": {
   "display_name": "Python 3",
   "language": "python",
   "name": "python3"
  },
  "language_info": {
   "codemirror_mode": {
    "name": "ipython",
    "version": 3
   },
   "file_extension": ".py",
   "mimetype": "text/x-python",
   "name": "python",
   "nbconvert_exporter": "python",
   "pygments_lexer": "ipython3",
   "version": "3.7.16"
  },
  "orig_nbformat": 4
 },
 "nbformat": 4,
 "nbformat_minor": 2
}
