{
  "cells": [
    {
      "cell_type": "markdown",
      "metadata": {
        "jukit_cell_id": "bZxsKik7iC"
      },
      "source": [
        "### Obtencion de datos \n",
        "--- \n",
        "A partir de los boletines disponibles en: https://presidente.gob.mx/sala-de-prensa/boletines/"
      ]
    },
    {
      "cell_type": "code",
      "metadata": {
        "jukit_cell_id": "66ochK90L9"
      },
      "source": [
        "# Remover comentario si es requerido:\n",
        "#!pip install selenium bs4 html2text\n",
        "import pandas as pd\n",
        "from selenium import webdriver\n",
        "import json\n",
        "from bs4 import BeautifulSoup\n",
        "import re\n",
        "import time"
      ],
      "outputs": [],
      "execution_count": null
    },
    {
      "cell_type": "markdown",
      "metadata": {
        "jukit_cell_id": "5hXhnq5Jfm"
      },
      "source": [
        "#### Se inicia el navegador\n",
        "--- "
      ]
    },
    {
      "cell_type": "code",
      "metadata": {
        "jukit_cell_id": "ebWP3B1mJy"
      },
      "source": [
        "# Utilice el que sea requerido seg\u00fan su caso.\n",
        "'''\n",
        "driver = webdriver.ChromiumEdge(executable_path='msedgedriver.exe')\n",
        "driver = webdriver.Firefox(executable_path='/path/to/geckodriver')\n",
        "driver = webdriver.Chrome(executable_path='chromedriver.exe')\n",
        "'''\n",
        "driver = webdriver.Firefox()\n",
        "driver.get('https://presidente.gob.mx/sala-de-prensa/boletines/')\n",
        "\n",
        "# Funci\u00f3n para obtener los links de los boletines de prensa dependiendo de la p\u00e1gina en la que se encuentre\n",
        "def navegacion(num):\n",
        "    if( num >= 2):\n",
        "        driver.get('https://presidente.gob.mx/sala-de-prensa/boletines/page/'+ str(num) +'/')\n",
        "    if (num == 1):\n",
        "        driver.get('https://presidente.gob.mx/sala-de-prensa/boletines/')\n",
        "\n",
        "    return driver"
      ],
      "outputs": [],
      "execution_count": null
    },
    {
      "cell_type": "markdown",
      "metadata": {
        "jukit_cell_id": "eDnAlS1T4Z"
      },
      "source": [
        "#### Se itera en los articulos de cada pagina y se guarda en un archivo_con_articulos de texto\n",
        "--- "
      ]
    },
    {
      "cell_type": "code",
      "metadata": {
        "jukit_cell_id": "hl3yTJjKeY"
      },
      "source": [
        "def escribir_articulos(archivo,titulo,fecha,articulo,link):\n",
        "    # Escribir el t\u00edtulo y contenido del art\u00edculo en el archivo_con_articulos de texto\n",
        "    archivo.write(\",\\n{\\n\")\n",
        "    archivo.write(f\"\\\"link\\\": \\\"{link}\\\",\\n\")\n",
        "    archivo.write(f\"\\\"Fecha\\\": \\\"{fecha}\\\",\\n\")\n",
        "    archivo.write(f\"\\\"T\u00edtulo\\\": \\\"{titulo}\\\",\\n\")\n",
        "    archivo.write(f\"\\\"Contenido\\\": \\\"{articulo}\\\"\")\n",
        "    archivo.write(\"\\n}\")\n",
        "\n",
        "\n",
        "# Abrir un archivo_con_articulos de texto para escribir los datos recolectados en cada una de las paginas de los articulos\n",
        "rango = 800\n",
        "with open('./datos_crudos_.json', 'w', encoding='utf-8') as archivo:\n",
        "    archivo.write(\"[\")\n",
        "    for num in range(1,rango):\n",
        "        try:\n",
        "            navegacion(num)\n",
        "            print(\"pagina: \" + driver.current_url)\n",
        "            \n",
        "            # Obtener el HTML de la p\u00e1gina con BeautifulSoup\n",
        "            soup = BeautifulSoup(driver.page_source, 'html.parser')\n",
        "            \n",
        "            # Obtener todos los art\u00edculos de la p\u00e1gina en la que se encuentra y su fecha\n",
        "            articulos = soup.find_all('h3', {'class': 'entry-title'})\n",
        "            fecha_articulo = soup.find('span', {'class': 'posted-on'}).text.strip()\n",
        "            \n",
        "            for articulo in articulos:\n",
        "                enlace = articulo.find('a')['href']\n",
        "                driver.get(enlace)\n",
        "                soup_articulo = BeautifulSoup(driver.page_source, 'html.parser')\n",
        "                titulo_articulo = soup_articulo.find('h2', {'class': 'entry-title'}).text.strip()\n",
        "                contenido_articulo = soup_articulo.find('div', {'class': 'entry-content'})\n",
        "                contenido_articulo =contenido_articulo.get_text()\n",
        "                contenido_articulo =re.sub('\"',' ',contenido_articulo)\n",
        "                contenido_articulo =re.sub('\\n',' ',contenido_articulo)\n",
        "                contenido_articulo =re.sub('\\t',' ',contenido_articulo)\n",
        "                contenido_articulo =contenido_articulo.strip()\n",
        "                \n",
        "                escribir_articulos(archivo,titulo_articulo,fecha_articulo,contenido_articulo,enlace)\n",
        "\n",
        "            print(\"ciclo de boletines: \" + str(num))\n",
        "\n",
        "        except Exception as e: \n",
        "            print(e)\n",
        "            continue\n",
        "        \n",
        "    archivo.write(\"\\n]\")        \n",
        "\n",
        "# Cerrar el driver al finalizar y cerrar el archivo \n",
        "# Mientras se esten haciendo pruebas, se recomienda comentar estas dos lineas\n",
        "if (rango >= 30):\n",
        "    driver.quit()\n",
        "    archivo.close()"
      ],
      "outputs": [
        {
          "output_type": "stream",
          "name": "stdout",
          "text": "pagina: https://presidente.gob.mx/sala-de-prensa/boletines/\nciclo de boletines: 1\n"
        }
      ],
      "execution_count": 1
    },
    {
      "cell_type": "code",
      "metadata": {
        "jukit_cell_id": "FlK757Rtfe"
      },
      "source": [
        "with open('./datos_crudos_.json', 'r') as file_1:\n",
        "    json_res: dict = json.loads(file_1.read(),strict=False)\n",
        "corpus = pd.DataFrame(json_res)\n",
        "print(corpus.head())"
      ],
      "outputs": [
        {
          "output_type": "stream",
          "name": "stdout",
          "text": "                                                link  ...                                          Contenido\n0  https://presidente.gob.mx/presidente-destaca-f...  ...  2023: A\u00f1o de Francisco Villa, el revolucionari...\n1  https://presidente.gob.mx/federacion-analiza-c...  ...  2023: A\u00f1o de Francisco Villa, el revolucionari...\n2  https://presidente.gob.mx/presidente-llama-a-f...  ...  2023: A\u00f1o de Francisco Villa, el revolucionari...\n3  https://presidente.gob.mx/gobierno-federal-dec...  ...  2023: A\u00f1o de Francisco Villa, el revolucionari...\n4  https://presidente.gob.mx/presidente-llama-a-r...  ...  2023: A\u00f1o de Francisco Villa, el revolucionari...\n\n[5 rows x 4 columns]\n"
        }
      ],
      "execution_count": 2
    }
  ],
  "metadata": {
    "anaconda-cloud": {},
    "kernelspec": {
      "display_name": "python",
      "language": "python",
      "name": "python3"
    }
  },
  "nbformat": 4,
  "nbformat_minor": 4
}