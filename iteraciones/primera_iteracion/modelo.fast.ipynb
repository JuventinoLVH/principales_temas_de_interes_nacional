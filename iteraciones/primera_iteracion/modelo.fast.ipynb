{
 "cells": [
  {
   "cell_type": "code",
   "execution_count": 23,
   "metadata": {},
   "outputs": [],
   "source": [
    "import pandas\n",
    "from sklearn.feature_extraction.text import CountVectorizer\n",
    "from sklearn.decomposition import LatentDirichletAllocation\n",
    "import numpy as np\n",
    "import pandas as pd\n",
    "import random\n",
    "import nltk\n"
   ]
  },
  {
   "cell_type": "code",
   "execution_count": 24,
   "metadata": {},
   "outputs": [
    {
     "name": "stdout",
     "output_type": "stream",
     "text": [
      "                                                 Titulo       Fecha\n",
      "0     Presidente se reúne en Palacio Nacional con go...  17.04.2023\n",
      "1     Obras complementarias en tramo 1 del Tren Maya...  17.04.2023\n",
      "2     Fonatur y Semarnat rinden informe de avances e...  17.04.2023\n",
      "3     En ruta del Tren Maya, estudiantes de todos lo...  17.04.2023\n",
      "4     Caminos pavimentados comunicarán todas las cab...  17.04.2023\n",
      "...                                                 ...         ...\n",
      "3130  Presidente Andrés Manuel López Obrador encabez...  02.12.2018\n",
      "3131  Discurso del presidente Andrés Manuel López Ob...  02.12.2018\n",
      "3132  Ceremonia de entrega del Bastón de Mando y Pri...  02.12.2018\n",
      "3133  El Estado se ocupará de disminuir las desigual...  02.12.2018\n",
      "3134  Andrés Manuel López Obrador rinde protesta com...  02.12.2018\n",
      "\n",
      "[3135 rows x 2 columns]\n"
     ]
    }
   ],
   "source": [
    "df_articulos = pd.read_json('./juve_datos.json',orient='record')\n",
    "print(df_articulos)\n"
   ]
  },
  {
   "cell_type": "code",
   "execution_count": 26,
   "metadata": {},
   "outputs": [
    {
     "ename": "AttributeError",
     "evalue": "'DataFrame' object has no attribute 'Titulos_ns'",
     "output_type": "error",
     "traceback": [
      "\u001b[1;31m---------------------------------------------------------------------------\u001b[0m",
      "\u001b[1;31mAttributeError\u001b[0m                            Traceback (most recent call last)",
      "\u001b[1;32m~\\AppData\\Local\\Temp\\ipykernel_10504\\1448482312.py\u001b[0m in \u001b[0;36m<module>\u001b[1;34m\u001b[0m\n\u001b[0;32m      6\u001b[0m \u001b[0mdf_articulos\u001b[0m\u001b[1;33m[\u001b[0m\u001b[1;34m'Titulo_ns'\u001b[0m\u001b[1;33m]\u001b[0m \u001b[1;33m=\u001b[0m \u001b[0mdf_articulos\u001b[0m\u001b[1;33m[\u001b[0m\u001b[1;34m'Titulo'\u001b[0m\u001b[1;33m]\u001b[0m\u001b[1;33m.\u001b[0m\u001b[0mapply\u001b[0m\u001b[1;33m(\u001b[0m\u001b[1;32mlambda\u001b[0m \u001b[0mx\u001b[0m\u001b[1;33m:\u001b[0m \u001b[0mremove_stopwords\u001b[0m\u001b[1;33m(\u001b[0m\u001b[0mx\u001b[0m\u001b[1;33m)\u001b[0m\u001b[1;33m)\u001b[0m\u001b[1;33m\u001b[0m\u001b[1;33m\u001b[0m\u001b[0m\n\u001b[0;32m      7\u001b[0m \u001b[1;33m\u001b[0m\u001b[0m\n\u001b[1;32m----> 8\u001b[1;33m \u001b[0mprint\u001b[0m\u001b[1;33m(\u001b[0m \u001b[0mdf\u001b[0m\u001b[1;33m.\u001b[0m\u001b[0mTitulos_ns\u001b[0m\u001b[1;33m)\u001b[0m\u001b[1;33m\u001b[0m\u001b[1;33m\u001b[0m\u001b[0m\n\u001b[0m",
      "\u001b[1;32mc:\\Users\\te524132\\AppData\\Local\\miniconda3\\envs\\topic_modeling\\lib\\site-packages\\pandas\\core\\generic.py\u001b[0m in \u001b[0;36m__getattr__\u001b[1;34m(self, name)\u001b[0m\n\u001b[0;32m   5485\u001b[0m         ):\n\u001b[0;32m   5486\u001b[0m             \u001b[1;32mreturn\u001b[0m \u001b[0mself\u001b[0m\u001b[1;33m[\u001b[0m\u001b[0mname\u001b[0m\u001b[1;33m]\u001b[0m\u001b[1;33m\u001b[0m\u001b[1;33m\u001b[0m\u001b[0m\n\u001b[1;32m-> 5487\u001b[1;33m         \u001b[1;32mreturn\u001b[0m \u001b[0mobject\u001b[0m\u001b[1;33m.\u001b[0m\u001b[0m__getattribute__\u001b[0m\u001b[1;33m(\u001b[0m\u001b[0mself\u001b[0m\u001b[1;33m,\u001b[0m \u001b[0mname\u001b[0m\u001b[1;33m)\u001b[0m\u001b[1;33m\u001b[0m\u001b[1;33m\u001b[0m\u001b[0m\n\u001b[0m\u001b[0;32m   5488\u001b[0m \u001b[1;33m\u001b[0m\u001b[0m\n\u001b[0;32m   5489\u001b[0m     \u001b[1;32mdef\u001b[0m \u001b[0m__setattr__\u001b[0m\u001b[1;33m(\u001b[0m\u001b[0mself\u001b[0m\u001b[1;33m,\u001b[0m \u001b[0mname\u001b[0m\u001b[1;33m:\u001b[0m \u001b[0mstr\u001b[0m\u001b[1;33m,\u001b[0m \u001b[0mvalue\u001b[0m\u001b[1;33m)\u001b[0m \u001b[1;33m->\u001b[0m \u001b[1;32mNone\u001b[0m\u001b[1;33m:\u001b[0m\u001b[1;33m\u001b[0m\u001b[1;33m\u001b[0m\u001b[0m\n",
      "\u001b[1;31mAttributeError\u001b[0m: 'DataFrame' object has no attribute 'Titulos_ns'"
     ]
    }
   ],
   "source": [
    "stopword_es = nltk.corpus.stopwords.words('spanish')\n",
    "def remove_stopwords(text):\n",
    "    text = [word for word in text if word not in stopword_es]\n",
    "    return text\n",
    "    \n",
    "df_articulos['Titulo_ns'] = df_articulos['Titulo'].apply(lambda x: remove_stopwords(x))\n",
    "\n",
    "print( df_articulos.Titulos_ns)"
   ]
  },
  {
   "cell_type": "code",
   "execution_count": 19,
   "metadata": {},
   "outputs": [
    {
     "data": {
      "text/plain": [
       "LatentDirichletAllocation(n_components=5, random_state=1)"
      ]
     },
     "execution_count": 19,
     "metadata": {},
     "output_type": "execute_result"
    }
   ],
   "source": [
    "cv = CountVectorizer(max_df = 0.90, min_df = 2)\n",
    "lda = LatentDirichletAllocation(n_components = 5, random_state = 1)\n",
    "\n",
    "cv_fit = cv.fit_transform(df_articulos.Titulo)\n",
    "lda.fit(cv_fit)\n"
   ]
  },
  {
   "cell_type": "code",
   "execution_count": 21,
   "metadata": {},
   "outputs": [
    {
     "name": "stdout",
     "output_type": "stream",
     "text": [
      "Number of columns of the lda fit: 2561\n",
      "Length of feature names: 2561\n"
     ]
    },
    {
     "name": "stderr",
     "output_type": "stream",
     "text": [
      "c:\\Users\\te524132\\AppData\\Local\\miniconda3\\envs\\topic_modeling\\lib\\site-packages\\sklearn\\utils\\deprecation.py:87: FutureWarning: Function get_feature_names is deprecated; get_feature_names is deprecated in 1.0 and will be removed in 1.2. Please use get_feature_names_out instead.\n",
      "  warnings.warn(msg, category=FutureWarning)\n"
     ]
    }
   ],
   "source": [
    "print('Number of columns of the lda fit:', len(lda.components_[0]))\n",
    "feature = cv.get_feature_names()\n",
    "\n",
    "print('Length of feature names:', len(feature))"
   ]
  },
  {
   "cell_type": "code",
   "execution_count": 22,
   "metadata": {},
   "outputs": [
    {
     "name": "stdout",
     "output_type": "stream",
     "text": [
      "Top 50 words in topic 0\n",
      "-------------------------\n",
      "['ciento', 'sector', 'estados', 'federal', 'baja', 'médicos', 'vacunas', 'construcción', 'presenta', 'seguridad', 'aeropuerto', 'mayores', 'mil', 'más', 'hospitales', 'integrales', 'estado', 'los', 'personal', 'personas', 'inicia', 'avanza', 'destaca', 'presentan', 'sistema', 'epidemia', 'afirma', 'se', 'imss', 'al', 'con', 'vacunación', 'plan', 'gobierno', 'por', 'contra', 'anuncia', 'programas', 'el', 'la', 'méxico', 'salud', 'bienestar', 'del', '19', 'covid', 'para', 'en', 'presidente', 'de'] \n",
      "\n",
      "\n",
      "Top 50 words in topic 1\n",
      "-------------------------\n",
      "['pueblo', 'obras', 'aniversario', 'acciones', 'león', 'sonora', 'los', 'mil', 'presentan', 'garantiza', 'tabasco', 'al', 'informe', 'visita', 'programas', 'año', 'lamenta', 'presupuesto', 'caso', 'con', 'abasto', 'su', 'nuevo', 'avances', 'supervisa', 'agua', 'urbano', 'mejoramiento', 'se', 'anuncia', 'sembrando', 'justicia', 'transformación', 'cuarta', 'vida', 'afirma', 'federal', 'discurso', 'para', 'el', 'manuel', 'andrés', 'obrador', 'gobierno', 'lópez', 'la', 'del', 'en', 'presidente', 'de'] \n",
      "\n",
      "\n",
      "Top 50 words in topic 2\n",
      "-------------------------\n",
      "['al', 'obra', 'rescate', 'caminos', 'sin', 'presentan', 'infraestructura', 'huracán', 'sureste', 'comunidades', 'mil', 'los', 'destaca', 'inversión', 'avanza', 'refrenda', 'apoyo', 'hospital', 'gira', 'entrega', 'gobierno', 'tramo', 'méxico', 'compromiso', 'coahuila', 'bienestar', 'avances', 'guerrero', 'guardia', 'programa', 'con', 'país', 'obras', 'construcción', 'se', 'supervisa', 'nacional', 'la', 'oaxaca', 'inaugura', 'por', 'anuncia', 'el', 'maya', 'tren', 'para', 'del', 'presidente', 'en', 'de'] \n",
      "\n",
      "\n",
      "Top 50 words in topic 3\n",
      "-------------------------\n",
      "['personas', 'cumbre', 'américa', 'económica', 'aprobación', 'cooperación', 'reconoce', 'resultados', 'durante', 'ee', 'uu', 'años', 'reforma', 'relación', 'como', 'seguridad', 'respeto', 'nueva', 'independencia', 'su', 'atención', 'reafirma', 'celebra', 'sobre', 'pueblo', 'anuncia', 'gobierno', 'las', 'no', 'aniversario', 'los', 'llama', 'amlo', 'nacional', 'por', 'unidos', 'destaca', 'estados', 'se', 'el', 'afirma', 'al', 'para', 'méxico', 'con', 'del', 'en', 'la', 'presidente', 'de'] \n",
      "\n",
      "\n",
      "Top 50 words in topic 4\n",
      "-------------------------\n",
      "['más', 'representantes', 'será', 'transformación', 'impunidad', 'avances', 'social', 'crecimiento', 'firma', 'los', 'habrá', 'garantizar', 'desarrollo', 'justicia', 'pueblo', 'mexicana', 'estrategia', 'paz', 'acuerdo', 'un', 'que', 'las', 'atención', 'delictiva', 'no', 'incidencia', 'por', 'amlo', 'bienestar', 'país', 'recibe', 'baja', 'destaca', 'méxico', 'al', 'reúne', 'seguridad', 'palacio', 'es', 'el', 'para', 'del', 'se', 'nacional', 'afirma', 'con', 'la', 'de', 'en', 'presidente'] \n",
      "\n",
      "\n"
     ]
    }
   ],
   "source": [
    "for ind, topic in enumerate(lda.components_):\n",
    "    print('Top 50 words in topic {}'.format(ind))\n",
    "    print('-'*25)\n",
    "    top_50 = topic.argsort()[-50:]\n",
    "    print([feature[i] for i in top_50], '\\n\\n')"
   ]
  },
  {
   "cell_type": "code",
   "execution_count": null,
   "metadata": {},
   "outputs": [],
   "source": []
  }
 ],
 "metadata": {
  "kernelspec": {
   "display_name": "topic_modeling",
   "language": "python",
   "name": "python3"
  },
  "language_info": {
   "codemirror_mode": {
    "name": "ipython",
    "version": 3
   },
   "file_extension": ".py",
   "mimetype": "text/x-python",
   "name": "python",
   "nbconvert_exporter": "python",
   "pygments_lexer": "ipython3",
   "version": "3.7.16"
  },
  "orig_nbformat": 4
 },
 "nbformat": 4,
 "nbformat_minor": 2
}
