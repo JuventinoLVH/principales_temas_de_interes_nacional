{
 "cells": [
  {
   "cell_type": "code",
   "execution_count": 23,
   "metadata": {},
   "outputs": [],
   "source": [
    "import pandas\n",
    "from sklearn.feature_extraction.text import CountVectorizer\n",
    "from sklearn.decomposition import LatentDirichletAllocation\n",
    "import numpy as np\n",
    "import pandas as pd\n",
    "import random\n",
    "import nltk\n"
   ]
  },
  {
   "cell_type": "code",
   "execution_count": 24,
   "metadata": {},
   "outputs": [
    {
     "name": "stdout",
     "output_type": "stream",
     "text": [
      "                                                 Titulo       Fecha\n",
      "0     Presidente se reúne en Palacio Nacional con go...  17.04.2023\n",
      "1     Obras complementarias en tramo 1 del Tren Maya...  17.04.2023\n",
      "2     Fonatur y Semarnat rinden informe de avances e...  17.04.2023\n",
      "3     En ruta del Tren Maya, estudiantes de todos lo...  17.04.2023\n",
      "4     Caminos pavimentados comunicarán todas las cab...  17.04.2023\n",
      "...                                                 ...         ...\n",
      "3130  Presidente Andrés Manuel López Obrador encabez...  02.12.2018\n",
      "3131  Discurso del presidente Andrés Manuel López Ob...  02.12.2018\n",
      "3132  Ceremonia de entrega del Bastón de Mando y Pri...  02.12.2018\n",
      "3133  El Estado se ocupará de disminuir las desigual...  02.12.2018\n",
      "3134  Andrés Manuel López Obrador rinde protesta com...  02.12.2018\n",
      "\n",
      "[3135 rows x 2 columns]\n"
     ]
    }
   ],
   "source": [
    "df_articulos = pd.read_json('./juve_datos.json',orient='record')\n",
    "print(df_articulos)\n"
   ]
  },
  {
   "cell_type": "code",
   "execution_count": 34,
   "metadata": {},
   "outputs": [
    {
     "name": "stdout",
     "output_type": "stream",
     "text": [
      "0       Presidente reúne Palacio Nacional gobernador P...\n",
      "1       Obras complementarias tramo 1 Tren Maya supera...\n",
      "2       Fonatur Semarnat rinden informe avances protec...\n",
      "3       En ruta Tren Maya, estudiantes niveles escolar...\n",
      "4       Caminos pavimentados comunicarán todas cabecer...\n",
      "                              ...                        \n",
      "3130    Presidente Andrés Manuel López Obrador encabez...\n",
      "3131    Discurso presidente Andrés Manuel López Obrado...\n",
      "3132    Ceremonia entrega Bastón Mando Primer Discurso...\n",
      "3133    El Estado ocupará disminuir desigualdades soci...\n",
      "3134    Andrés Manuel López Obrador rinde protesta Pre...\n",
      "Name: Titulo_ns, Length: 3135, dtype: object\n"
     ]
    }
   ],
   "source": [
    "stopword_es = nltk.corpus.stopwords.words('spanish')\n",
    "def remove_stopwords(text):\n",
    "    texto = text.split()\n",
    "    text = [word for word in texto if word not in stopword_es]\n",
    "    text_r = ' '.join(text)\n",
    "    return text_r\n",
    "    \n",
    "df_articulos['Titulo_ns'] = df_articulos['Titulo'].apply(lambda x: remove_stopwords(x))\n",
    "\n",
    "print( df_articulos.Titulo_ns)"
   ]
  },
  {
   "cell_type": "code",
   "execution_count": 35,
   "metadata": {},
   "outputs": [
    {
     "data": {
      "text/plain": [
       "LatentDirichletAllocation(n_components=7, random_state=1)"
      ]
     },
     "execution_count": 35,
     "metadata": {},
     "output_type": "execute_result"
    }
   ],
   "source": [
    "cv = CountVectorizer(max_df = 0.90, min_df = 2)\n",
    "lda = LatentDirichletAllocation(n_components = 7, random_state = 1)\n",
    "\n",
    "cv_fit = cv.fit_transform(df_articulos.Titulo_ns)\n",
    "lda.fit(cv_fit)\n"
   ]
  },
  {
   "cell_type": "code",
   "execution_count": 36,
   "metadata": {},
   "outputs": [
    {
     "name": "stdout",
     "output_type": "stream",
     "text": [
      "Number of columns of the lda fit: 2515\n",
      "Length of feature names: 2515\n"
     ]
    },
    {
     "name": "stderr",
     "output_type": "stream",
     "text": [
      "c:\\Users\\te524132\\AppData\\Local\\miniconda3\\envs\\topic_modeling\\lib\\site-packages\\sklearn\\utils\\deprecation.py:87: FutureWarning: Function get_feature_names is deprecated; get_feature_names is deprecated in 1.0 and will be removed in 1.2. Please use get_feature_names_out instead.\n",
      "  warnings.warn(msg, category=FutureWarning)\n"
     ]
    }
   ],
   "source": [
    "print('Number of columns of the lda fit:', len(lda.components_[0]))\n",
    "feature = cv.get_feature_names()\n",
    "\n",
    "print('Length of feature names:', len(feature))"
   ]
  },
  {
   "cell_type": "code",
   "execution_count": 38,
   "metadata": {},
   "outputs": [
    {
     "name": "stdout",
     "output_type": "stream",
     "text": [
      "Top 50 words in topic 0\n",
      "-------------------------\n",
      "['atención', 'apoyo', 'asegura', 'sonora', 'encabeza', 'corrupción', 'llama', 'indígenas', '2023', 'informa', 'benefician', 'combustibles', 'imss', 'hospital', 'precios', 'inflación', '2022', 'ciudad', 'apoyos', 'paz', 'plan', 'refinería', 'pueblo', 'resultados', 'oaxaca', 'san', 'inversión', 'país', 'entrega', 'visita', 'acciones', 'inaugura', 'banco', 'avances', 'sociales', 'presenta', 'integrales', 'delictiva', 'baja', 'incidencia', 'desarrollo', 'seguridad', 'gobierno', 'destaca', 'anuncia', 'afirma', 'méxico', 'programas', 'bienestar', 'presidente'] \n",
      "\n",
      "\n",
      "Top 50 words in topic 1\n",
      "-------------------------\n",
      "['periodistas', 'oaxaca', 'hacer', 'informe', 'empresas', 'amlo', 'felipe', 'baja', 'ángeles', 'obra', 'norte', 'avance', 'damnificados', 'constata', 'aeropuerto', 'sinaloa', 'obras', 'delitos', 'país', 'huracán', 'resultados', 'pueblo', 'ciento', 'tramo', 'coahuila', 'acciones', 'anuncia', 'plan', 'avanza', 'justicia', 'presentan', 'apoyo', 'destaca', 'afirma', 'salud', 'avances', 'estrategia', 'garantiza', 'construcción', 'refrenda', 'atención', 'compromiso', 'supervisa', 'seguridad', 'federal', 'méxico', 'maya', 'tren', 'gobierno', 'presidente'] \n",
      "\n",
      "\n",
      "Top 50 words in topic 2\n",
      "-------------------------\n",
      "['agua', 'es', 'corrupción', 'sedena', 'gabinete', 'elecciones', 'celebra', 'hospitales', '2019', 'estatales', 'jornada', 'extranjeros', 'entrega', 'acueducto', 'gobernador', 'convoca', 'ciudadana', 'el', 'acuerdo', 'gobiernos', 'convocatoria', 'credenciales', 'estrategia', 'fuerzas', 'armadas', 'especialistas', 'llama', 'reconoce', 'cartas', 'cuartel', 'amlo', 'embajadores', 'humanos', 'pueblo', 'médicos', 'afirma', 'méxico', 'rurales', 'derechos', 'protección', 'representantes', 'seguridad', 'inaugura', 'presentan', 'guardia', 'recibe', 'reúne', 'palacio', 'presidente', 'nacional'] \n",
      "\n",
      "\n",
      "Top 50 words in topic 3\n",
      "-------------------------\n",
      "['acciones', 'aniversario', 'gira', 'obras', 'reunión', 'nayarit', 'trabajo', 'futuro', 'león', 'reafirma', 'luctuoso', 'biden', 'pública', 'médicos', 'inaugura', 'entrega', 'avances', 'jóvenes', 'celebra', 'programa', 'avión', 'presidencial', 'seguridad', 'lotería', 'homenaje', 'benito', 'sorteo', 'rinde', 'bienestar', 'nueva', 'unidos', 'juárez', 'destaca', 'urbano', 'mec', 'estados', 'mejoramiento', 'plan', 'salud', 'afirma', 'desarrollo', 'méxico', 'visita', 'nuevo', 'llama', 'país', 'nacional', 'amlo', 'anuncia', 'presidente'] \n",
      "\n",
      "\n",
      "Top 50 words in topic 4\n",
      "-------------------------\n",
      "['economía', 'municipales', 'dos', 'destaca', 'dialoga', 'municipios', 'productores', 'aeropuerto', 'obras', 'inversión', 'aniversario', 'tabasco', '2020', 'puebla', 'baja', 'mejoramiento', 'afirma', 'inicia', 'independencia', 'puerto', 'en', 'entrega', 'años', 'guerrero', 'ruta', 'lucía', 'inicio', 'beneficiará', 'pesos', 'santa', 'año', 'méxico', 'caminos', 'gobierno', 'veracruz', 'maya', 'creación', 'tren', 'fotogalería', 'construcción', 'fertilizantes', 'oaxaca', 'millones', 'sembrando', 'mil', 'empleos', 'vida', 'programa', 'anuncia', 'presidente'] \n",
      "\n",
      "\n",
      "Top 50 words in topic 5\n",
      "-------------------------\n",
      "['clases', 'democracia', 'presenciales', 'reitera', '4t', 'anuncia', 'propone', 'avances', 'país', 'compra', 'marías', 'islas', 'revolución', 'instruye', 'conmemora', 'materia', 'inicio', 'impunidad', 'públicos', 'ee', 'uu', 'llama', 'paz', 'llamado', 'compromisos', 'política', 'en', 'pueblo', 'ayotzinapa', 'iniciativa', 'día', 'caso', 'destaca', 'electoral', 'ley', 'mexicana', 'la', 'reafirma', 'aniversario', 'aprobación', 'reforma', 'celebra', 'amlo', 'justicia', 'gobierno', 'méxico', 'cuarta', 'transformación', 'afirma', 'presidente'] \n",
      "\n",
      "\n",
      "Top 50 words in topic 6\n",
      "-------------------------\n",
      "['población', 'bilateral', 'niños', 'sector', 'pandemia', 'niñas', 'primer', 'sistema', 'asegura', 'pueblo', 'atender', 'presidentes', 'vacuna', 'inicia', 'contagios', 'aniversario', 'adultos', 'universal', 'reducción', 'pensiones', 'baja', 'dosis', 'anuncia', 'personal', 'llama', 'relación', 'destaca', 'vacunas', 'imss', 'personas', 'mayores', 'plan', 'años', 'epidemia', 'bienestar', 'gobierno', 'unidos', 'discurso', 'afirma', 'vacunación', 'estados', 'manuel', 'andrés', 'obrador', 'salud', 'lópez', 'méxico', '19', 'covid', 'presidente'] \n",
      "\n",
      "\n"
     ]
    }
   ],
   "source": [
    "for ind, topic in enumerate(lda.components_):\n",
    "    print('Top 50 words in topic {}'.format(ind))\n",
    "    print('-'*25)\n",
    "    top_50 = topic.argsort()[-50:]\n",
    "    print([feature[i] for i in top_50], '\\n\\n')"
   ]
  },
  {
   "cell_type": "code",
   "execution_count": null,
   "metadata": {},
   "outputs": [],
   "source": []
  }
 ],
 "metadata": {
  "kernelspec": {
   "display_name": "topic_modeling",
   "language": "python",
   "name": "python3"
  },
  "language_info": {
   "codemirror_mode": {
    "name": "ipython",
    "version": 3
   },
   "file_extension": ".py",
   "mimetype": "text/x-python",
   "name": "python",
   "nbconvert_exporter": "python",
   "pygments_lexer": "ipython3",
   "version": "3.7.16"
  },
  "orig_nbformat": 4
 },
 "nbformat": 4,
 "nbformat_minor": 2
}
