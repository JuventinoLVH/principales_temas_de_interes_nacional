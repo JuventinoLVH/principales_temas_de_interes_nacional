{
  "cells": [
    {
      "cell_type": "markdown",
      "metadata": {
        "jukit_cell_id": "6sxl1cy0tZ"
      },
      "source": [
        "> #  ** Graficas **\n",
        "\n",
        "---\n",
        "\n",
        " "
      ]
    },
    {
      "cell_type": "code",
      "metadata": {
        "jukit_cell_id": "FePojpJpxN"
      },
      "source": [
        "from datetime import datetime\n",
        "from sklearn.feature_extraction.text import TfidfVectorizer, CountVectorizer\n",
        "from sklearn.decomposition import NMF, LatentDirichletAllocation\n",
        "from sklearn.model_selection import ShuffleSplit\n",
        "from sklearn.feature_selection import chi2\n",
        "from sklearn.decomposition import PCA\n",
        "import numpy as np\n",
        "from matplotlib import colors\n",
        "from matplotlib.ticker import PercentFormatter\n",
        "import random\n",
        "import nltk\n",
        "import matplotlib.pyplot as plt \n",
        "import pandas as pd\n",
        "import json\n",
        "from tabulate import tabulate \n",
        "from collections import Counter"
      ],
      "outputs": [],
      "execution_count": null
    },
    {
      "cell_type": "markdown",
      "metadata": {
        "jukit_cell_id": "bEs9iMaBBP"
      },
      "source": [
        "Primera visualizacion"
      ]
    },
    {
      "cell_type": "code",
      "metadata": {
        "jukit_cell_id": "SENSPdQVer"
      },
      "source": [
        "with open('datos/datos_crudos.json', 'r') as file_1:\n",
        "    json_res: dict = json.loads(file_1.read(),strict=False)\n",
        "corpus = pd.DataFrame(json_res)\n",
        "\n",
        "tab = corpus.describe().copy()\n",
        "tab.iloc[2].iloc[0] = (tab.iloc[2].iloc[0])[0:50] + \"...\"\n",
        "tab.iloc[2].iloc[2] = (tab.iloc[2].iloc[2])[0:50] + \"...\"\n",
        "print(tabulate(tab, headers='keys', tablefmt='outlin:e'))\n",
        "\n",
        "tab = corpus.head().copy()\n",
        "for col in tab.index:\n",
        "    tab.iloc[col].iloc[0]=tab.iloc[col].iloc[0][0:50] + \"...\"\n",
        "    tab.iloc[col].iloc[2]=tab.iloc[col].iloc[2][0:50] + \"...\"\n",
        "print(tabulate(tab, headers='keys', tablefmt='outline'))"
      ],
      "outputs": [
        {
          "output_type": "stream",
          "name": "stdout",
          "text": "        T\u00edtulo                                                 Fecha       Contenido\n------  -----------------------------------------------------  ----------  -----------------------------------------------------\ncount   3340                                                   3340        3340\nunique  3338                                                   334         3339\ntop     Presidente reporta pormenores del sismo de 6.9; do...  13.07.2023  2022: A\u00f1o de Ricardo Flores Mag\u00f3n, precursor de la...\nfreq    2                                                      10          2\n+----+-------------------------------------------------------+------------+-------------------------------------------------------+\n|    | T\u00edtulo                                                | Fecha      | Contenido                                             |\n+====+=======================================================+============+=======================================================+\n|  0 | Presidente llama a facilitar participaci\u00f3n de pers... | 13.07.2023 | 2023: A\u00f1o de Francisco Villa, el revolucionario de... |\n|  1 | Gobierno federal declarar\u00e1 \u00c1rea Natural Protegida ... | 13.07.2023 | 2023: A\u00f1o de Francisco Villa, el revolucionario de... |\n|  2 | Presidente llama a revalorar historia y culturas d... | 13.07.2023 | 2023: A\u00f1o de Francisco Villa, el revolucionario de... |\n|  3 | Gobierno de M\u00e9xico y pueblo de Guerrero restablece... | 13.07.2023 | 2023: A\u00f1o de Francisco Villa, el revolucionario de... |\n|  4 | Presidente lamenta fallecimiento de ni\u00f1a en hospit... | 13.07.2023 | 2023: A\u00f1o de Francisco Villa, el revolucionario de... |\n+----+-------------------------------------------------------+------------+-------------------------------------------------------+\n"
        }
      ],
      "execution_count": 1
    },
    {
      "cell_type": "markdown",
      "metadata": {
        "jukit_cell_id": "XWeeRxw3LC"
      },
      "source": [
        "Graficas de estadisticas"
      ]
    },
    {
      "cell_type": "code",
      "metadata": {
        "jukit_cell_id": "qUSbLgB5HH"
      },
      "source": [
        "#=========> Eliminando la leyenda inicial,duplicados y vacios\n",
        "muestra = corpus.copy()\n",
        "\n",
        "funContar = lambda x: len (x.split())\n",
        "quitarLeyendas = lambda x: re.sub(r\"^(.*?)\\d{1,2}\\/\\d{1,2}\\/\\d{1,4}\",\"\",x,1)\n",
        "\n",
        "muestra.Contenido = muestra.Contenido.apply(quitarLeyendas)\n",
        "muestra = muestra.drop_duplicates(subset=[\"Contenido\"]) \n",
        "\n",
        "muestra_contenido= muestra.Contenido\n",
        "cantidad_palabras = muestra_contenido.apply(funContar)\n",
        "muestra = muestra[cantidad_palabras > 3 ]\n",
        "\n",
        "\n",
        "#=========> Conteo de palabras en contenido\n",
        "muestra_contenido= muestra.Contenido\n",
        "cantidad_palabras = muestra_contenido.apply(funContar)\n",
        "des_palabras=(pd.DataFrame(cantidad_palabras.describe()))\n",
        "print(tabulate(des_palabras, headers='keys', tablefmt='outline'))\n",
        "\n",
        "\n",
        "#=========> Conteo de palabras en contenido\n",
        "muestra_titulo= muestra.T\u00edtulo\n",
        "titulo_palabras = muestra_titulo.apply(funContar)\n",
        "des_titulos=(pd.DataFrame(titulo_palabras.describe()))\n",
        "print(tabulate(des_titulos, headers='keys', tablefmt='outline'))\n",
        "\n",
        "#=========> Descripcion del datetime\n",
        "str_to_date = lambda x: datetime.strptime(x, '%d.%m.%Y')\n",
        "muestra_fechas = muestra.Fecha\n",
        "fechas_obj = muestra_fechas.apply(str_to_date)\n",
        "des_fechas=(pd.DataFrame(fechas_obj.describe()))\n",
        "\n",
        "print(tabulate(des_fechas, headers='keys', tablefmt='outline'))"
      ],
      "outputs": [
        {
          "output_type": "stream",
          "name": "stdout",
          "text": "+-------+-------------+\n|       |   Contenido |\n+=======+=============+\n| count |    3332     |\n| mean  |     471.633 |\n| std   |     521.759 |\n| min   |       5     |\n| 25%   |     256     |\n| 50%   |     403     |\n| 75%   |     560     |\n| max   |    8631     |\n+-------+-------------+\n+-------+------------+\n|       |     T\u00edtulo |\n+=======+============+\n| count | 3332       |\n| mean  |   13.7263  |\n| std   |    3.79742 |\n| min   |    2       |\n| 25%   |   11       |\n| 50%   |   14       |\n| 75%   |   16       |\n| max   |   30       |\n+-------+------------+\n+-------+----------------------------+\n|       | Fecha                      |\n+=======+============================+\n| count | 3332                       |\n| mean  | 2021-05-02 11:36:39.759904 |\n| min   | 2018-12-04 00:00:00        |\n| 25%   | 2020-01-25 00:00:00        |\n| 50%   | 2021-05-16 12:00:00        |\n| 75%   | 2022-08-11 00:00:00        |\n| max   | 2023-07-13 00:00:00        |\n+-------+----------------------------+\n"
        }
      ],
      "execution_count": 2
    },
    {
      "cell_type": "code",
      "metadata": {
        "jukit_cell_id": "xgHIqLn2TI"
      },
      "source": [
        "#=========> Plot de frecuencias chido\n",
        "def PlotFrecuencias(df,colorpalet,x_lab,y_lab,title,style=\"bmh\"):\n",
        "    with plt.style.context(style):\n",
        "        fig, axs = plt.subplots()\n",
        "        N, bins, patches = axs.hist(df,bins=45)\n",
        "\n",
        "        fracs = N / N.max()\n",
        "        norm = colors.Normalize(fracs.min(), fracs.max())\n",
        "\n",
        "        for thisfrac, thispatch in zip(fracs, patches):\n",
        "            color = colorpalet(norm(thisfrac))\n",
        "            thispatch.set_facecolor(color)\n",
        "\n",
        "        axs.hist(df, bins=45, density=True)\n",
        "        plt.title(title)\n",
        "        plt.xlabel(x_lab)\n",
        "        plt.ylabel(y_lab)\n",
        "\n",
        "#=========> Se calculan los persentiles para que la grafica se vea chilo\n",
        "quantile_low = cantidad_palabras.quantile(0.00)\n",
        "quantile_high = cantidad_palabras.quantile(0.985)\n",
        "contenido_primer_cuartil = cantidad_palabras[cantidad_palabras < quantile_low]\n",
        "contenido_cuarto_cuartil = cantidad_palabras[cantidad_palabras > quantile_high ]\n",
        "\n",
        "mascara_cuartil_central = lambda x: (x >= quantile_low)&( x <= quantile_high)\n",
        "contenido_centro = cantidad_palabras[mascara_cuartil_central]\n",
        "\n",
        "\n",
        "PlotFrecuencias(contenido_centro,plt.cm.coolwarm,\n",
        "        \"Cantidad de palabras\", \"Frecuencia\",\n",
        "        \"Palabtras por noticias\")"
      ],
      "outputs": [
        {
          "data": {
            "image/png": "[encoded data removed]"
          },
          "metadata": {},
          "output_type": "display_data"
        },
        {
          "output_type": "stream",
          "name": "stdout",
          "text": "\n"
        }
      ],
      "execution_count": 3
    },
    {
      "cell_type": "code",
      "metadata": {
        "jukit_cell_id": "X09rkeldIl"
      },
      "source": [
        "c = 0 \n",
        "for con in muestra[cantidad_palabras < 20].T\u00edtulo:\n",
        "    print(str(c) + \" \" + con)\n",
        "    c+=1\n",
        "c = 0 \n",
        "print(\"---------------\")\n",
        "for con in muestra[cantidad_palabras < 20].Contenido:\n",
        "    print(str(c) + \" \" + con)\n",
        "    c+=1"
      ],
      "outputs": [
        {
          "output_type": "stream",
          "name": "stdout",
          "text": "0 Fotogaler\u00eda. Inicio de la primera etapa de refiner\u00eda Olmeca y mensaje por 4\u00b0 A\u00f1o del Triunfo Hist\u00f3rico, desde Para\u00edso, Tabasco\n1 Fotogaler\u00eda. Feria Aeroespacial M\u00e9xico 2021\n2 Fotogaler\u00eda. VI Cumbre de la Comunidad de Estados Latinoamericanos y Caribe\u00f1os (CELAC)\n3 Fotogaler\u00eda. Visita oficial a M\u00e9xico del presidente de Guatemala, Alejandro Giammattei\n4 Fotogaler\u00eda. 200 A\u00f1os de la Promulgaci\u00f3n del Plan de Iguala y D\u00eda de la Bandera\n5 Fotogaler\u00eda. Visita oficial a M\u00e9xico del presidente de Argentina, Alberto Fern\u00e1ndez\n6 Fotogaler\u00eda. 2\u00ba A\u00f1o de Gobierno 2018-2020\n7 Fotogaler\u00eda. Ofrenda homenaje a v\u00edctimas de la pandemia, desde Palacio Nacional\n8 Fotogaler\u00eda. 210 Aniversario del Grito de Independencia\n9 Fotogaler\u00eda Avi\u00f3n presidencial desde el hangar presidencial de la Fuerza A\u00e9rea Mexicana\n10 Fotogaler\u00eda Ceremonia del Primer A\u00f1o de Gobierno 2018-2019\n11 Fotogaler\u00eda. Conmemoraci\u00f3n del 109 Aniversario del inicio de la Revoluci\u00f3n Mexicana\n12 Fotogaler\u00eda del 209 Aniversario de la Independencia de M\u00e9xico\n13 Primer Informe de Gobierno 2018-2019\n14 100 compromisos del presidente Andr\u00e9s Manuel L\u00f3pez Obrador a un a\u00f1o del triunfo\n15 Carta al presidente Trump\n16 Cartilla Moral\n17 Presidente env\u00eda mensaje de inicio de a\u00f1o 2019\n---------------\n0  Primera etapa de refiner\u00eda Olmeca y mensaje por 4\u00b0 A\u00f1o del Triunfo Hist\u00f3rico, desde Para\u00edso, Tabasco\n1  Inauguraci\u00f3n de la Feria Aeroespacial 2021 en la Base Militar N\u00famero 1 del Aeropuerto Internacional General Felipe \u00c1ngeles.\n2  VI Cumbre de la Comunidad de Estados Latinoamericanos y Caribe\u00f1os (CELAC)\n3 2021: A\u00f1o de la Independencia \u00a0 Visita oficial a M\u00e9xico del presidente de Guatemala Alejandro Giammattei Falla\n4  200 A\u00f1os de la Promulgaci\u00f3n del Plan de Iguala y D\u00eda de la Bandera\n5  Visita oficial a M\u00e9xico del presidente de Argentina, Alberto Fern\u00e1ndez\n6  2\u00ba A\u00f1o de Gobierno 2018-2020\n7  Ofrenda homenaje a v\u00edctimas de la pandemia, desde Palacio Nacional\n8  Fotogaler\u00eda. 210 Aniversario del Grito de Independencia\n9  Fotogaler\u00eda Avi\u00f3n presidencial desde el hangar presidencial de la Fuerza A\u00e9rea Mexicana\n10 2019, A\u00f1o del Caudillo del Sur, Emiliano Zapata \u00a0 Fotogaler\u00eda Ceremonia del Primer A\u00f1o de Gobierno 2018-2019\n11  Fotogaler\u00eda de la conmemoraci\u00f3n del 109 Aniversario del inicio de la Revoluci\u00f3n Mexicana\n12 2019, A\u00f1o del Caudillo del Sur, Emiliano Zapata Fotogaler\u00eda del 209 Aniversario de la Independencia de M\u00e9xico.\n13 2019, A\u00f1o del Caudillo del Sur, Emiliano Zapata \u00a0 Descargar Primer Informe de Gobierno \u00a0 Cargando\u2026\n14 100 compromisos del presidente Andr\u00e9s Manuel L\u00f3pez Obrador a un a\u00f1o del triunfo     100 compromisos de gobierno\n15 30 de mayo de 2019 Carta a Trump Descarga aqu\u00ed\n16  Descarga aqu\u00ed la Cartilla Moral\n17 Presidente env\u00eda mensaje de inicio de a\u00f1o 2019\n"
        }
      ],
      "execution_count": 4
    },
    {
      "cell_type": "markdown",
      "metadata": {
        "jukit_cell_id": "m9lc0R6cB9"
      },
      "source": [
        "Limpiado y otra graficacion"
      ]
    },
    {
      "cell_type": "code",
      "metadata": {
        "jukit_cell_id": "PxKkauykqB"
      },
      "source": [],
      "outputs": [],
      "execution_count": null
    },
    {
      "cell_type": "code",
      "metadata": {
        "jukit_cell_id": "FRT6snHHrZ"
      },
      "source": [
        "#############################################################################\n",
        "# Nota, este codigo esta por mientras el tokenizado. Borrar esto despues...\n",
        "stopword_es = nltk.corpus.stopwords.words('spanish')\n",
        "def remove_stopwords(text):\n",
        "    texto = text.split()\n",
        "    text = [word for word in texto if word not in stopword_es]\n",
        "    text_r = ' '.join(text)\n",
        "    return text_r\n",
        "corpus_entrenamiento['Titulo_ns'] = corpus_entrenamiento['Titulo'].apply(lambda x: remove_stopwords(x))\n",
        "#----------------------------------------------------------------------------"
      ],
      "outputs": [
        {
          "output_type": "stream",
          "name": "stdout",
          "text": "\u001b[0;31m-----------------------------------------------------\u001b[0m\n\u001b[0;31mNameError\u001b[0m           Traceback (most recent call last)\nCell \u001b[0;32mIn[96], line 9\u001b[0m\n\u001b[1;32m      7\u001b[0m     text_r \u001b[38;5;241m=\u001b[39m \u001b[38;5;124m'\u001b[39m\u001b[38;5;124m \u001b[39m\u001b[38;5;124m'\u001b[39m\u001b[38;5;241m.\u001b[39mjoin(text)\n\u001b[1;32m      8\u001b[0m     \u001b[38;5;28;01mreturn\u001b[39;00m text_r\n\u001b[0;32m----> 9\u001b[0m corpus_entrenamiento[\u001b[38;5;124m'\u001b[39m\u001b[38;5;124mTitulo_ns\u001b[39m\u001b[38;5;124m'\u001b[39m] \u001b[38;5;241m=\u001b[39m \u001b[43mcorpus_entrenamiento\u001b[49m[\u001b[38;5;124m'\u001b[39m\u001b[38;5;124mTitulo\u001b[39m\u001b[38;5;124m'\u001b[39m]\u001b[38;5;241m.\u001b[39mapply(\u001b[38;5;28;01mlambda\u001b[39;00m x: remove_stopwords(x))\n\u001b[1;32m     10\u001b[0m \u001b[38;5;66;03m#----------------------------------------------------------------------------\u001b[39;00m\n\n\u001b[0;31mNameError\u001b[0m: name 'corpus_entrenamiento' is not defined\n"
        }
      ],
      "execution_count": 5
    },
    {
      "cell_type": "code",
      "metadata": {
        "jukit_cell_id": "9Cic7xJnPQ"
      },
      "source": [
        "frecuencias_del_corpus = TfidfVectorizer(\n",
        "    ngram_range = (1,2),\n",
        "    max_df=0.99999999999, \n",
        "    min_df=0\n",
        "    )\n",
        "\n",
        "corpus_vectorizado = frecuencias_del_corpus.fit_transform(corpus_entrenamiento.Titulo_ns) "
      ],
      "outputs": [],
      "execution_count": null
    },
    {
      "cell_type": "markdown",
      "metadata": {
        "jukit_cell_id": "4kYtPJPxsg"
      },
      "source": [
        "### Guardando frecuencias \n",
        "---\n",
        "**C**omo en la mayoria de modelos, se busca que nuestro *conjunto de entrenamiento* pueda capturar las caracteristicas **mas significativas** y que el tama\u00f1o del *vector caracteristicas* sea **lo mas peque\u00f1o posible**"
      ]
    },
    {
      "cell_type": "code",
      "metadata": {
        "jukit_cell_id": "KcLUS7XcYx"
      },
      "source": [
        "print(frecuencias_del_corpus.stop_words_)\n",
        "\n",
        "matriz_cruda = corpus_vectorizado.toarray()\n",
        "tokenizador = frecuencias_del_corpus.build_analyzer()\n",
        "diccionario_vocabulario = frecuencias_del_corpus.vocabulary_\n",
        "\n",
        "archivo_documentos ='documentos.csv'\n",
        "archivo_diccionario='diccionario_token.csv'\n",
        "archivo_tokens_por_documento = 'palabras_por_documento.csv'\n",
        "archivo_matriz_cruda = 'matriz_cruda_frecuencias.csv'\n",
        "\n",
        "##################################################################################\n",
        "#Escribiendo el archivo 'informacion_documento' \n",
        "with open(archivo_documentos , 'w', encoding='utf-8') as archivo:\n",
        "    archivo.write(f'id_documento,titulo,fecha\\n')\n",
        "    for elemento in corpus_entrenamiento.iloc:\n",
        "        id_documento =elemento.name\n",
        "        titulo = elemento.Titulo\n",
        "        fecha = elemento.Fecha\n",
        "        archivo.write(f'{id_documento},{titulo},{fecha}\\n')\n",
        "\n",
        "        \n",
        "#_________________________________________________________________________________\n",
        "\n",
        "\n",
        "##################################################################################'\n",
        "# Guardando diccionario de los tokens\n",
        "with open(archivo_diccionario, 'w', encoding='utf-8') as archivo:\n",
        "    archivo.write(f'id_token,token\\n')\n",
        "    for (llave) in diccionario_vocabulario:\n",
        "        archivo.write(f'{llave},{diccionario_vocabulario[llave]}\\n')\n",
        "#_________________________________________________________________________________ \n",
        "\n",
        "\n",
        "##################################################################################\n",
        "#Escribiendo el archivo 'palabras_por_documento' \n",
        "with open(archivo_tokens_por_documento, 'w', encoding='utf-8') as archivo:\n",
        "    archivo.write(f'id_documento,token,frecuencia\\n')\n",
        "    for elemento in corpus_entrenamiento.iloc:\n",
        "        id_documento =elemento.name\n",
        "        for token in (tokenizador(elemento.Titulo_ns)):\n",
        "            id_token =diccionario_vocabulario[token] \n",
        "            frecuencia = matriz_cruda[id_documento][id_token]\n",
        "            archivo.write(f'{id_documento},{token},{frecuencia}\\n')\n",
        "#_________________________________________________________________________________\n",
        "\n",
        "\n",
        "\n",
        "##################################################################################\n",
        "#Escribiendo el archivo 'matriz_cruda_frecuencias'\n",
        "dataframe_corpus = pd.DataFrame(corpus_vectorizado.toarray())\n",
        "dataframe_corpus.to_csv(archivo_matriz_cruda,index=False)\n",
        "#Ejemplo_leer = pd.read_csv('frecuencias_del_corpus.csv')\n",
        "#_________________________________________________________________________________ \n",
        "\n",
        "    \n",
        "print('listo')"
      ],
      "outputs": [
        {
          "name": "stdout",
          "output_type": "stream",
          "text": [
            "set()\n",
            "listo\n"
          ]
        }
      ],
      "execution_count": 6
    },
    {
      "cell_type": "markdown",
      "metadata": {
        "jukit_cell_id": "n49ynRcYED"
      },
      "source": [
        "## Reduciendo dimencionalidad\n",
        "---\n",
        "\n",
        "**C**uando el vector de caracteristicas es muy grande se suele sufrir de *la maldici\u00f3n de la dimensionalidad* (o efecto Hughes), el cual es un problema conocido de la estadistica y probabilidadEn. Para mitigar estos efectos la solucion inmediata es reducir el numero de caracteristicas en nuestro vector. Los metodos mas populares son el **PCA** y usando una distribucion **chi2**."
      ]
    },
    {
      "cell_type": "code",
      "metadata": {
        "jukit_cell_id": "fU5YKApzfJ"
      },
      "source": [
        "#If 0 < n_components < 1 and svd_solver == 'full', \n",
        "#select the number of components such that the amount of variance that \n",
        "#needs to be explained is greater than the percentage specified by n_components.\n",
        "#svd_solver{\u2018auto\u2019, \u2018full\u2019, \u2018arpack\u2019, \u2018randomized\u2019}\n",
        "\n",
        "pca_corpus_entrenamiento = PCA(\n",
        "    n_components= 0.70,\n",
        "    svd_solver= 'full',\n",
        "    whiten = False,\n",
        "    random_state=576\n",
        "    ) \n",
        "pca_corpus_entrenamiento.fit(corpus_vectorizado.toarray())\n",
        "corpus_frecuencias_reducidas = corpus_frecuencias_reducidas.transform(corpus_vectorizado)\n",
        "\n",
        "print('listo')"
      ],
      "outputs": [],
      "execution_count": null
    },
    {
      "cell_type": "code",
      "metadata": {
        "jukit_cell_id": "iu60THlJkm"
      },
      "source": [
        "print('f')"
      ],
      "outputs": [],
      "execution_count": null
    },
    {
      "cell_type": "code",
      "metadata": {
        "jukit_cell_id": "AadVqJaR3O"
      },
      "source": [
        "print(corpus_frecuencias_reducidas)"
      ],
      "outputs": [],
      "execution_count": null
    },
    {
      "cell_type": "markdown",
      "metadata": {
        "jukit_cell_id": "5LPkPSAVCf"
      },
      "source": [
        "### Guardando nuevas caracteristicas\n",
        "---"
      ]
    },
    {
      "cell_type": "markdown",
      "metadata": {
        "jukit_cell_id": "oGwWYSkim7"
      },
      "source": [
        "## Aplicando Topic modeling"
      ]
    },
    {
      "cell_type": "markdown",
      "metadata": {
        "jukit_cell_id": "qdEBV5XB4t"
      },
      "source": [
        "**L**as tecnicas de analizar grupos en aprendizaje automatico se conocen como **clustering** y el algoritmo mas popular de clustering es **K-means** el cual usa un enfoque basado en la *distancia* entre vectores de caracteristicas. \n",
        "\n",
        "Sin embargo para agrupar documentos existe un metodo muy popular que consiste en calcular dos *distribuciones de probabilidades*, Una de *topicos sobre tokens* y otra de *documentos sobre topicos*. Al algoritmo que calcula estas dos distribuciones se le llama **Latent Dirichlet Allocation**."
      ]
    },
    {
      "cell_type": "code",
      "metadata": {
        "jukit_cell_id": "1diuA1iQXC"
      },
      "source": [
        "lda = LatentDirichletAllocation(\n",
        "    n_components=n_components,\n",
        "    max_iter=500,\n",
        "    learning_method=\"online\",\n",
        "    learning_offset=50.0,\n",
        "    random_state=876,\n",
        ")\n",
        "lda.fit()\n",
        "\n",
        "feature = frecuencias_del_corpus.get_feature_names()\n",
        "for ind, topic in enumerate(lda.components_):\n",
        "    print('Top 50 words in topic {}'.format(ind))\n",
        "    print('-'*25)\n",
        "    topic_ordenado = topic.argsort()[::-1]\n",
        "    top_50 = topic_ordenado[:50]\n",
        "    print([feature[i] for i in top_50] , '\\n\\n')"
      ],
      "outputs": [
        {
          "ename": "NameError",
          "evalue": "name 'n_components' is not defined",
          "output_type": "error",
          "traceback": [
            "\u001b[1;31m---------------------------------------------------------------------------\u001b[0m",
            "\u001b[1;31mNameError\u001b[0m                                 Traceback (most recent call last)",
            "\u001b[1;32m~\\AppData\\Local\\Temp\\ipykernel_10828\\4262063987.py\u001b[0m in \u001b[0;36m<module>\u001b[1;34m\u001b[0m\n\u001b[0;32m      1\u001b[0m lda = LatentDirichletAllocation(\n\u001b[1;32m----> 2\u001b[1;33m     \u001b[0mn_components\u001b[0m\u001b[1;33m=\u001b[0m\u001b[0mn_components\u001b[0m\u001b[1;33m,\u001b[0m\u001b[1;33m\u001b[0m\u001b[1;33m\u001b[0m\u001b[0m\n\u001b[0m\u001b[0;32m      3\u001b[0m     \u001b[0mmax_iter\u001b[0m\u001b[1;33m=\u001b[0m\u001b[1;36m500\u001b[0m\u001b[1;33m,\u001b[0m\u001b[1;33m\u001b[0m\u001b[1;33m\u001b[0m\u001b[0m\n\u001b[0;32m      4\u001b[0m     \u001b[0mlearning_method\u001b[0m\u001b[1;33m=\u001b[0m\u001b[1;34m\"online\"\u001b[0m\u001b[1;33m,\u001b[0m\u001b[1;33m\u001b[0m\u001b[1;33m\u001b[0m\u001b[0m\n\u001b[0;32m      5\u001b[0m     \u001b[0mlearning_offset\u001b[0m\u001b[1;33m=\u001b[0m\u001b[1;36m50.0\u001b[0m\u001b[1;33m,\u001b[0m\u001b[1;33m\u001b[0m\u001b[1;33m\u001b[0m\u001b[0m\n",
            "\u001b[1;31mNameError\u001b[0m: name 'n_components' is not defined"
          ]
        }
      ],
      "execution_count": 7
    },
    {
      "cell_type": "markdown",
      "metadata": {
        "jukit_cell_id": "3z1qUUIUa2"
      },
      "source": [
        "### Guardando entropia del topic modeling"
      ]
    },
    {
      "cell_type": "markdown",
      "metadata": {
        "jukit_cell_id": "dmoDawzJbG"
      },
      "source": [
        "## Evaluacion empirica\n",
        "---"
      ]
    },
    {
      "cell_type": "code",
      "metadata": {
        "jukit_cell_id": "UBVtbKkiJT"
      },
      "source": [],
      "outputs": [],
      "execution_count": null
    },
    {
      "cell_type": "code",
      "metadata": {
        "jukit_cell_id": "hbbFE7hH5d"
      },
      "source": [],
      "outputs": [],
      "execution_count": null
    }
  ],
  "metadata": {
    "anaconda-cloud": {},
    "kernelspec": {
      "display_name": "python",
      "language": "python",
      "name": "python3"
    }
  },
  "nbformat": 4,
  "nbformat_minor": 4
}